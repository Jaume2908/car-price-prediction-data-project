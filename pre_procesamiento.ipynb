{
 "cells": [
  {
   "cell_type": "code",
   "execution_count": 1,
   "metadata": {},
   "outputs": [],
   "source": [
    "#Importamos las librerias necesarias para el análisis de datos \n",
    "import pandas as pd\n",
    "import numpy as np\n",
    "import matplotlib.pyplot as plt\n",
    "import seaborn as sns\n",
    "import os\n",
    "import sys\n",
    "#Importamos plotly para la visualización de los datos\n",
    "import plotly.express as px\n",
    "import plotly.graph_objects as go"
   ]
  },
  {
   "cell_type": "code",
   "execution_count": 2,
   "metadata": {},
   "outputs": [],
   "source": [
    "df = pd.read_csv(r'C:\\Users\\spide\\Desktop\\Bootcamp\\mi_entorno\\Modulo_3\\proyecto_final_modulo_3\\vehiculos-de-segunda-mano-sample.csv')"
   ]
  },
  {
   "cell_type": "code",
   "execution_count": 3,
   "metadata": {},
   "outputs": [
    {
     "data": {
      "text/plain": [
       "(100000, 28)"
      ]
     },
     "execution_count": 3,
     "metadata": {},
     "output_type": "execute_result"
    }
   ],
   "source": [
    "df.shape"
   ]
  },
  {
   "cell_type": "code",
   "execution_count": 4,
   "metadata": {},
   "outputs": [
    {
     "name": "stdout",
     "output_type": "stream",
     "text": [
      "<class 'pandas.core.frame.DataFrame'>\n",
      "RangeIndex: 100000 entries, 0 to 99999\n",
      "Data columns (total 28 columns):\n",
      " #   Column                  Non-Null Count   Dtype  \n",
      "---  ------                  --------------   -----  \n",
      " 0   vehicle_type            100000 non-null  object \n",
      " 1   make                    100000 non-null  object \n",
      " 2   model                   100000 non-null  object \n",
      " 3   version                 99842 non-null   object \n",
      " 4   fuel                    96810 non-null   object \n",
      " 5   year                    100000 non-null  int64  \n",
      " 6   kms                     99189 non-null   float64\n",
      " 7   power                   99709 non-null   float64\n",
      " 8   doors                   0 non-null       float64\n",
      " 9   shift                   98982 non-null   object \n",
      " 10  color                   0 non-null       float64\n",
      " 11  photos                  100000 non-null  int64  \n",
      " 12  description             55810 non-null   object \n",
      " 13  price                   100000 non-null  int64  \n",
      " 14  currency                100000 non-null  object \n",
      " 15  location                100000 non-null  object \n",
      " 16  publish_date            100000 non-null  object \n",
      " 17  update_date             100000 non-null  object \n",
      " 18  dealer_name             99908 non-null   object \n",
      " 19  dealer_description      81558 non-null   object \n",
      " 20  dealer_address          99908 non-null   object \n",
      " 21  dealer_zip_code         99908 non-null   float64\n",
      " 22  dealer_city             99908 non-null   object \n",
      " 23  dealer_country_code     100000 non-null  object \n",
      " 24  dealer_is_professional  100000 non-null  bool   \n",
      " 25  dealer_website          79913 non-null   object \n",
      " 26  dealer_registered_at    99908 non-null   object \n",
      " 27  date                    100000 non-null  object \n",
      "dtypes: bool(1), float64(5), int64(3), object(19)\n",
      "memory usage: 20.7+ MB\n"
     ]
    }
   ],
   "source": [
    "df.info()"
   ]
  },
  {
   "cell_type": "markdown",
   "metadata": {},
   "source": [
    "## Valores duplicados"
   ]
  },
  {
   "cell_type": "code",
   "execution_count": null,
   "metadata": {},
   "outputs": [
    {
     "data": {
      "text/plain": [
       "0"
      ]
     },
     "execution_count": 6,
     "metadata": {},
     "output_type": "execute_result"
    }
   ],
   "source": [
    "df.duplicated().sum() #filas duplicadas"
   ]
  },
  {
   "cell_type": "code",
   "execution_count": 5,
   "metadata": {},
   "outputs": [],
   "source": [
    "df = df.drop_duplicates()"
   ]
  },
  {
   "cell_type": "markdown",
   "metadata": {},
   "source": [
    "## Valores nulos"
   ]
  },
  {
   "cell_type": "code",
   "execution_count": 29,
   "metadata": {},
   "outputs": [
    {
     "data": {
      "text/plain": [
       "vehicle_type                0.000\n",
       "make                        0.000\n",
       "model                       0.000\n",
       "version                     0.158\n",
       "fuel                        3.190\n",
       "year                        0.000\n",
       "kms                         0.811\n",
       "power                       0.291\n",
       "doors                     100.000\n",
       "shift                       1.018\n",
       "color                     100.000\n",
       "photos                      0.000\n",
       "description                44.190\n",
       "price                       0.000\n",
       "currency                    0.000\n",
       "location                    0.000\n",
       "publish_date                0.000\n",
       "update_date                 0.000\n",
       "dealer_name                 0.092\n",
       "dealer_description         18.442\n",
       "dealer_address              0.092\n",
       "dealer_zip_code             0.092\n",
       "dealer_city                 0.092\n",
       "dealer_country_code         0.000\n",
       "dealer_is_professional      0.000\n",
       "dealer_website             20.087\n",
       "dealer_registered_at        0.092\n",
       "date                        0.000\n",
       "dtype: float64"
      ]
     },
     "execution_count": 29,
     "metadata": {},
     "output_type": "execute_result"
    }
   ],
   "source": [
    "((df.isnull().sum())/df.shape[0])*100"
   ]
  },
  {
   "cell_type": "code",
   "execution_count": 16,
   "metadata": {},
   "outputs": [
    {
     "data": {
      "text/plain": [
       "vehicle_type\n",
       "car    100000\n",
       "Name: count, dtype: int64"
      ]
     },
     "execution_count": 16,
     "metadata": {},
     "output_type": "execute_result"
    }
   ],
   "source": [
    "df['vehicle_type'].value_counts()"
   ]
  },
  {
   "cell_type": "code",
   "execution_count": 17,
   "metadata": {},
   "outputs": [
    {
     "data": {
      "text/plain": [
       "array([10,  8,  6,  2,  9,  5,  1,  7,  4,  3], dtype=int64)"
      ]
     },
     "execution_count": 17,
     "metadata": {},
     "output_type": "execute_result"
    }
   ],
   "source": [
    "df['photos'].unique()"
   ]
  },
  {
   "cell_type": "code",
   "execution_count": 19,
   "metadata": {},
   "outputs": [
    {
     "data": {
      "text/plain": [
       "'www.cocheauto.com'"
      ]
     },
     "execution_count": 19,
     "metadata": {},
     "output_type": "execute_result"
    }
   ],
   "source": [
    "df[\"dealer_website\"][0]"
   ]
  },
  {
   "cell_type": "code",
   "execution_count": 21,
   "metadata": {},
   "outputs": [
    {
     "data": {
      "text/plain": [
       "Index(['vehicle_type', 'make', 'model', 'version', 'fuel', 'year', 'kms',\n",
       "       'power', 'doors', 'shift', 'color', 'photos', 'description', 'price',\n",
       "       'currency', 'location', 'publish_date', 'update_date', 'dealer_name',\n",
       "       'dealer_description', 'dealer_address', 'dealer_zip_code',\n",
       "       'dealer_city', 'dealer_country_code', 'dealer_is_professional',\n",
       "       'dealer_website', 'dealer_registered_at', 'date'],\n",
       "      dtype='object')"
      ]
     },
     "execution_count": 21,
     "metadata": {},
     "output_type": "execute_result"
    }
   ],
   "source": [
    "df.columns"
   ]
  }
 ],
 "metadata": {
  "kernelspec": {
   "display_name": "Python 3",
   "language": "python",
   "name": "python3"
  },
  "language_info": {
   "codemirror_mode": {
    "name": "ipython",
    "version": 3
   },
   "file_extension": ".py",
   "mimetype": "text/x-python",
   "name": "python",
   "nbconvert_exporter": "python",
   "pygments_lexer": "ipython3",
   "version": "3.11.9"
  }
 },
 "nbformat": 4,
 "nbformat_minor": 2
}
