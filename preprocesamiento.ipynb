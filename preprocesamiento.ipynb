{
 "cells": [
  {
   "cell_type": "code",
   "execution_count": 1,
   "metadata": {},
   "outputs": [],
   "source": [
    "#Importamos las librerias necesarias para el análisis de datos \n",
    "import pandas as pd\n",
    "import numpy as np\n",
    "import matplotlib.pyplot as plt\n",
    "import seaborn as sns\n",
    "import os\n",
    "import sys\n",
    "#Importamos plotly para la visualización de los datos\n",
    "import plotly.express as px\n",
    "import plotly.graph_objects as go"
   ]
  },
  {
   "cell_type": "code",
   "execution_count": 2,
   "metadata": {},
   "outputs": [],
   "source": [
    "df = pd.read_csv(r'C:\\Users\\spide\\Desktop\\Bootcamp\\mi_entorno\\Modulo_3\\proyecto_final_modulo_3\\vehiculos-de-segunda-mano-sample.csv')"
   ]
  },
  {
   "cell_type": "code",
   "execution_count": 3,
   "metadata": {},
   "outputs": [
    {
     "data": {
      "text/plain": [
       "(100000, 28)"
      ]
     },
     "execution_count": 3,
     "metadata": {},
     "output_type": "execute_result"
    }
   ],
   "source": [
    "df.shape"
   ]
  },
  {
   "cell_type": "code",
   "execution_count": 4,
   "metadata": {},
   "outputs": [
    {
     "name": "stdout",
     "output_type": "stream",
     "text": [
      "<class 'pandas.core.frame.DataFrame'>\n",
      "RangeIndex: 100000 entries, 0 to 99999\n",
      "Data columns (total 28 columns):\n",
      " #   Column                  Non-Null Count   Dtype  \n",
      "---  ------                  --------------   -----  \n",
      " 0   vehicle_type            100000 non-null  object \n",
      " 1   make                    100000 non-null  object \n",
      " 2   model                   100000 non-null  object \n",
      " 3   version                 99842 non-null   object \n",
      " 4   fuel                    96810 non-null   object \n",
      " 5   year                    100000 non-null  int64  \n",
      " 6   kms                     99189 non-null   float64\n",
      " 7   power                   99709 non-null   float64\n",
      " 8   doors                   0 non-null       float64\n",
      " 9   shift                   98982 non-null   object \n",
      " 10  color                   0 non-null       float64\n",
      " 11  photos                  100000 non-null  int64  \n",
      " 12  description             55810 non-null   object \n",
      " 13  price                   100000 non-null  int64  \n",
      " 14  currency                100000 non-null  object \n",
      " 15  location                100000 non-null  object \n",
      " 16  publish_date            100000 non-null  object \n",
      " 17  update_date             100000 non-null  object \n",
      " 18  dealer_name             99908 non-null   object \n",
      " 19  dealer_description      81558 non-null   object \n",
      " 20  dealer_address          99908 non-null   object \n",
      " 21  dealer_zip_code         99908 non-null   float64\n",
      " 22  dealer_city             99908 non-null   object \n",
      " 23  dealer_country_code     100000 non-null  object \n",
      " 24  dealer_is_professional  100000 non-null  bool   \n",
      " 25  dealer_website          79913 non-null   object \n",
      " 26  dealer_registered_at    99908 non-null   object \n",
      " 27  date                    100000 non-null  object \n",
      "dtypes: bool(1), float64(5), int64(3), object(19)\n",
      "memory usage: 20.7+ MB\n"
     ]
    }
   ],
   "source": [
    "df.info()"
   ]
  },
  {
   "cell_type": "markdown",
   "metadata": {},
   "source": [
    "## Valores duplicados"
   ]
  },
  {
   "cell_type": "code",
   "execution_count": 5,
   "metadata": {},
   "outputs": [
    {
     "data": {
      "text/plain": [
       "237"
      ]
     },
     "execution_count": 5,
     "metadata": {},
     "output_type": "execute_result"
    }
   ],
   "source": [
    "df.duplicated().sum() #filas duplicadas"
   ]
  },
  {
   "cell_type": "code",
   "execution_count": 6,
   "metadata": {},
   "outputs": [],
   "source": [
    "df = df.drop_duplicates()"
   ]
  },
  {
   "cell_type": "markdown",
   "metadata": {},
   "source": [
    "## Valores nulos"
   ]
  },
  {
   "cell_type": "code",
   "execution_count": 15,
   "metadata": {},
   "outputs": [
    {
     "data": {
      "text/plain": [
       "vehicle_type                  0\n",
       "make                          0\n",
       "model                         0\n",
       "version                     158\n",
       "fuel                       3177\n",
       "year                          0\n",
       "kms                         809\n",
       "power                       283\n",
       "doors                     99763\n",
       "shift                      1018\n",
       "color                     99763\n",
       "photos                        0\n",
       "description               44014\n",
       "price                         0\n",
       "currency                      0\n",
       "location                      0\n",
       "publish_date                  0\n",
       "update_date                   0\n",
       "dealer_name                  92\n",
       "dealer_description        18345\n",
       "dealer_address               92\n",
       "dealer_zip_code              92\n",
       "dealer_city                  92\n",
       "dealer_country_code           0\n",
       "dealer_is_professional        0\n",
       "dealer_website            19997\n",
       "dealer_registered_at         92\n",
       "date                          0\n",
       "dtype: int64"
      ]
     },
     "execution_count": 15,
     "metadata": {},
     "output_type": "execute_result"
    }
   ],
   "source": [
    "df.isnull().sum()"
   ]
  },
  {
   "cell_type": "code",
   "execution_count": 7,
   "metadata": {},
   "outputs": [
    {
     "data": {
      "text/plain": [
       "vehicle_type                0.000000\n",
       "make                        0.000000\n",
       "model                       0.000000\n",
       "version                     0.158375\n",
       "fuel                        3.184547\n",
       "year                        0.000000\n",
       "kms                         0.810922\n",
       "power                       0.283672\n",
       "doors                     100.000000\n",
       "shift                       1.020418\n",
       "color                     100.000000\n",
       "photos                      0.000000\n",
       "description                44.118561\n",
       "price                       0.000000\n",
       "currency                    0.000000\n",
       "location                    0.000000\n",
       "publish_date                0.000000\n",
       "update_date                 0.000000\n",
       "dealer_name                 0.092219\n",
       "dealer_description         18.388581\n",
       "dealer_address              0.092219\n",
       "dealer_zip_code             0.092219\n",
       "dealer_city                 0.092219\n",
       "dealer_country_code         0.000000\n",
       "dealer_is_professional      0.000000\n",
       "dealer_website             20.044505\n",
       "dealer_registered_at        0.092219\n",
       "date                        0.000000\n",
       "dtype: float64"
      ]
     },
     "execution_count": 7,
     "metadata": {},
     "output_type": "execute_result"
    }
   ],
   "source": [
    "((df.isnull().sum())/df.shape[0])*100"
   ]
  },
  {
   "cell_type": "code",
   "execution_count": 20,
   "metadata": {},
   "outputs": [
    {
     "data": {
      "text/plain": [
       "make           model             \n",
       "Toyota         C-HR                  489\n",
       "Mazda          2                     128\n",
       "Toyota         Corolla               118\n",
       "CUPRA          Leon                  117\n",
       "Lexus          UX                    110\n",
       "Ford           Puma                  109\n",
       "Lexus          ES                     98\n",
       "Toyota         Yaris                  90\n",
       "               Auris                  80\n",
       "KIA            Niro                   79\n",
       "Fiat           500                    79\n",
       "Lexus          NX                     70\n",
       "KIA            Ceed                   68\n",
       "               Sportage               67\n",
       "Hyundai        IONIQ                  65\n",
       "Alfa Romeo     Tonale                 64\n",
       "Honda          Insight                56\n",
       "BMW            X7                     50\n",
       "Renault        Arkana                 50\n",
       "Lexus          RC                     48\n",
       "Citroen        C5 X                   44\n",
       "               C3                     41\n",
       "Lexus          RX                     37\n",
       "BMW            Serie 4                36\n",
       "Hyundai        Tucson                 29\n",
       "SEAT           Leon                   26\n",
       "Lexus          IS                     23\n",
       "Dacia          Jogger                 22\n",
       "BMW            i3                     18\n",
       "Lexus          GS                     17\n",
       "Bentley        Flying Spur            16\n",
       "Abarth         695                    16\n",
       "Nissan         Qashqai                15\n",
       "Daihatsu       Terios                 15\n",
       "Renault        Twizy                  14\n",
       "Fiat           Panda                  13\n",
       "Honda          Jazz                   12\n",
       "Mazda          CX-30                  12\n",
       "Ford           Tourneo Custom         12\n",
       "Volkswagen     Golf                   11\n",
       "Mitsubishi     Outlander              11\n",
       "Land Rover     Range Rover Evoque     10\n",
       "Ford           Fiesta                 10\n",
       "Volkswagen     Caddy                   9\n",
       "Mazda          3                       9\n",
       "Audi           RS6                     9\n",
       "Toyota         iQ                      9\n",
       "               Camry                   9\n",
       "Ford           Kuga                    9\n",
       "Citroen        Berlingo                9\n",
       "Porsche        Panamera                9\n",
       "Cadillac       Seville                 8\n",
       "Corvette       Corvette                8\n",
       "Dodge          Caliber                 8\n",
       "Mercedes-Benz  GLE Coupé               8\n",
       "BMW            Serie 8                 8\n",
       "Mercedes-Benz  Classe X                8\n",
       "Hyundai        i20                     8\n",
       "Infiniti       FX37                    8\n",
       "Jaguar         S-Type                  8\n",
       "               XJ                      8\n",
       "Citroen        Xsara                   8\n",
       "Skoda          Octavia                 8\n",
       "Renault        Clio                    8\n",
       "Saab           9-5                     8\n",
       "Audi           RS3                     8\n",
       "               Q8                      8\n",
       "Chevrolet      Tahoe                   8\n",
       "Volvo          V90                     8\n",
       "Abarth         Punto Evo               8\n",
       "BMW            X5 M                    8\n",
       "Hyundai        Kona                    8\n",
       "Porsche        Boxster                 8\n",
       "Ferrari        LaFerrari               8\n",
       "Hyundai        Accent                  8\n",
       "Subaru         XV                      8\n",
       "Citroen        C2                      8\n",
       "Fiat           Barchetta               8\n",
       "BMW            X6 M                    8\n",
       "Nissan         Townstar                8\n",
       "Cadillac       CTS                     8\n",
       "Ford           Mondeo Vignale          8\n",
       "Porsche        718 Cayman              8\n",
       "Lotus          Esprit                  7\n",
       "Subaru         Legacy                  7\n",
       "MG             ZS                      7\n",
       "Hyundai        Elantra                 7\n",
       "Peugeot        406                     7\n",
       "Skoda          Kamiq                   7\n",
       "MINI           Roadster                7\n",
       "Chevrolet      Camaro                  7\n",
       "KIA            XCeed                   7\n",
       "Mitsubishi     3000 GT                 7\n",
       "Hummer         H2                      7\n",
       "Nissan         Pixo                    7\n",
       "KIA            Stonic                  7\n",
       "Peugeot        308                     6\n",
       "Opel           Tigra                   6\n",
       "Mercedes-Benz  Clase G                 6\n",
       "Porsche        718 Boxster             6\n",
       "Tata           Indigo                  6\n",
       "Volvo          XC60                    6\n",
       "Chevrolet      Cruze                   6\n",
       "Abarth         595                     6\n",
       "               500                     5\n",
       "Volkswagen     Multivan                5\n",
       "Hyundai        Getz                    5\n",
       "Chevrolet      Kalos                   5\n",
       "Mercedes-Benz  SLK                     5\n",
       "Volkswagen     Golf Plus               5\n",
       "Citroen        C4                      5\n",
       "Volkswagen     Touareg                 5\n",
       "KIA            Rio                     5\n",
       "Lamborghini    Huracán                 5\n",
       "Audi           A3                      5\n",
       "BMW            X6                      5\n",
       "Porsche        Cayman                  4\n",
       "Rover          45                      4\n",
       "Opel           Corsa                   4\n",
       "DS             4                       4\n",
       "Cadillac       STS                     4\n",
       "BMW            Serie 3                 4\n",
       "               Serie 6                 4\n",
       "               Serie 5                 4\n",
       "Porsche        911                     4\n",
       "Peugeot        307                     4\n",
       "Mercedes-Benz  Viano                   4\n",
       "Ford           C-MAX                   4\n",
       "Volkswagen     Taigo                   4\n",
       "Mercedes-Benz  Clase CLS               4\n",
       "               Clase A                 4\n",
       "Peugeot        3008                    4\n",
       "Toyota         Yaris Cross             3\n",
       "BMW            X5                      3\n",
       "Audi           RS4                     3\n",
       "Land Rover     Range Rover Sport       3\n",
       "Porsche        Cayenne                 3\n",
       "Dacia          Duster                  3\n",
       "Peugeot        207                     3\n",
       "Opel           Astra                   3\n",
       "Mitsubishi     Eclipse Cross           3\n",
       "Mercedes-Benz  GLA                     2\n",
       "BMW            Serie 7                 2\n",
       "Nissan         NV400                   2\n",
       "Toyota         MR2                     2\n",
       "Hyundai        Coupe                   2\n",
       "Audi           Q7                      2\n",
       "Volkswagen     Golf Sportsvan          2\n",
       "DS             7 CROSSBACK             2\n",
       "Hyundai        i10                     2\n",
       "Volkswagen     Polo                    2\n",
       "               T-Cross                 2\n",
       "Jeep           Wrangler                2\n",
       "Mercedes-Benz  Clase E                 2\n",
       "Lancia         Musa                    2\n",
       "Volvo          XC40                    2\n",
       "BMW            X1                      2\n",
       "Nissan         Navara                  2\n",
       "Hyundai        Atos                    2\n",
       "Ford           Fusion                  2\n",
       "Dacia          Lodgy                   2\n",
       "Ford           Focus                   2\n",
       "Citroen        Nemo                    2\n",
       "               C5                      2\n",
       "Renault        Laguna                  2\n",
       "Lexus          CT                      2\n",
       "Citroen        C3 Picasso              2\n",
       "Honda          CR-V                    2\n",
       "               CR-Z                    2\n",
       "Hyundai        Matrix                  1\n",
       "Suzuki         Vitara                  1\n",
       "Peugeot        107                     1\n",
       "Citroen        C4 Picasso              1\n",
       "Renault        Twingo                  1\n",
       "Mercedes-Benz  Vito                    1\n",
       "Chevrolet      Aveo                    1\n",
       "SEAT           Ibiza                   1\n",
       "Name: count, dtype: int64"
      ]
     },
     "execution_count": 20,
     "metadata": {},
     "output_type": "execute_result"
    }
   ],
   "source": [
    "# Ajustar las opciones de visualización de pandas\n",
    "pd.set_option('display.max_rows', None)\n",
    "pd.set_option('display.max_columns', None)\n",
    "pd.set_option('display.width', None)\n",
    "pd.set_option('display.max_colwidth', None)\n",
    "\n",
    "# Mostrar el resultado completo\n",
    "df[df['fuel'].isnull()][['make','model']].value_counts()"
   ]
  },
  {
   "cell_type": "markdown",
   "metadata": {},
   "source": []
  },
  {
   "cell_type": "code",
   "execution_count": 14,
   "metadata": {},
   "outputs": [
    {
     "data": {
      "text/plain": [
       "vehicle_type               1\n",
       "make                      66\n",
       "model                    748\n",
       "version                 8658\n",
       "fuel                       4\n",
       "shift                      2\n",
       "description             6439\n",
       "currency                   1\n",
       "location                 669\n",
       "publish_date             424\n",
       "update_date               38\n",
       "dealer_name             1678\n",
       "dealer_description      1181\n",
       "dealer_address          1675\n",
       "dealer_city              665\n",
       "dealer_country_code        1\n",
       "dealer_website           888\n",
       "dealer_registered_at    1177\n",
       "date                      13\n",
       "dtype: int64"
      ]
     },
     "execution_count": 14,
     "metadata": {},
     "output_type": "execute_result"
    }
   ],
   "source": [
    "df.select_dtypes(include=['object']).nunique()"
   ]
  },
  {
   "cell_type": "code",
   "execution_count": 9,
   "metadata": {},
   "outputs": [
    {
     "data": {
      "text/plain": [
       "array([10,  8,  6,  2,  9,  5,  1,  7,  4,  3], dtype=int64)"
      ]
     },
     "execution_count": 9,
     "metadata": {},
     "output_type": "execute_result"
    }
   ],
   "source": [
    "df['photos'].unique()"
   ]
  },
  {
   "cell_type": "code",
   "execution_count": 10,
   "metadata": {},
   "outputs": [
    {
     "data": {
      "text/plain": [
       "'www.cocheauto.com'"
      ]
     },
     "execution_count": 10,
     "metadata": {},
     "output_type": "execute_result"
    }
   ],
   "source": [
    "df[\"dealer_website\"][0]"
   ]
  },
  {
   "cell_type": "code",
   "execution_count": 11,
   "metadata": {},
   "outputs": [
    {
     "data": {
      "text/plain": [
       "Index(['vehicle_type', 'make', 'model', 'version', 'fuel', 'year', 'kms',\n",
       "       'power', 'doors', 'shift', 'color', 'photos', 'description', 'price',\n",
       "       'currency', 'location', 'publish_date', 'update_date', 'dealer_name',\n",
       "       'dealer_description', 'dealer_address', 'dealer_zip_code',\n",
       "       'dealer_city', 'dealer_country_code', 'dealer_is_professional',\n",
       "       'dealer_website', 'dealer_registered_at', 'date'],\n",
       "      dtype='object')"
      ]
     },
     "execution_count": 11,
     "metadata": {},
     "output_type": "execute_result"
    }
   ],
   "source": [
    "df.columns"
   ]
  }
 ],
 "metadata": {
  "kernelspec": {
   "display_name": "Python 3",
   "language": "python",
   "name": "python3"
  },
  "language_info": {
   "codemirror_mode": {
    "name": "ipython",
    "version": 3
   },
   "file_extension": ".py",
   "mimetype": "text/x-python",
   "name": "python",
   "nbconvert_exporter": "python",
   "pygments_lexer": "ipython3",
   "version": "3.11.9"
  }
 },
 "nbformat": 4,
 "nbformat_minor": 2
}
