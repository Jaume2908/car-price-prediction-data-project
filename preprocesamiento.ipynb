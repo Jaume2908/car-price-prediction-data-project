{
 "cells": [
  {
   "cell_type": "code",
   "execution_count": 35,
   "metadata": {},
   "outputs": [],
   "source": [
    "#Importamos las librerias necesarias para el análisis de datos \n",
    "import pandas as pd\n",
    "import numpy as np\n",
    "import matplotlib.pyplot as plt\n",
    "import seaborn as sns\n",
    "import os\n",
    "import sys\n",
    "#Importamos plotly para la visualización de los datos\n",
    "import plotly.express as px\n",
    "import plotly.graph_objects as go"
   ]
  },
  {
   "cell_type": "code",
   "execution_count": 36,
   "metadata": {},
   "outputs": [],
   "source": [
    "df = pd.read_csv(r'C:\\Users\\spide\\Desktop\\Bootcamp\\mi_entorno\\Modulo_3\\proyecto_final_modulo_3\\vehiculos-de-segunda-mano-sample.csv',encoding = 'UTF-8')"
   ]
  },
  {
   "cell_type": "code",
   "execution_count": 37,
   "metadata": {},
   "outputs": [
    {
     "data": {
      "text/plain": [
       "(100000, 28)"
      ]
     },
     "execution_count": 37,
     "metadata": {},
     "output_type": "execute_result"
    }
   ],
   "source": [
    "df.shape"
   ]
  },
  {
   "cell_type": "code",
   "execution_count": 38,
   "metadata": {},
   "outputs": [
    {
     "name": "stdout",
     "output_type": "stream",
     "text": [
      "<class 'pandas.core.frame.DataFrame'>\n",
      "RangeIndex: 100000 entries, 0 to 99999\n",
      "Data columns (total 28 columns):\n",
      " #   Column                  Non-Null Count   Dtype  \n",
      "---  ------                  --------------   -----  \n",
      " 0   vehicle_type            100000 non-null  object \n",
      " 1   make                    100000 non-null  object \n",
      " 2   model                   100000 non-null  object \n",
      " 3   version                 99842 non-null   object \n",
      " 4   fuel                    96810 non-null   object \n",
      " 5   year                    100000 non-null  int64  \n",
      " 6   kms                     99189 non-null   float64\n",
      " 7   power                   99709 non-null   float64\n",
      " 8   doors                   0 non-null       float64\n",
      " 9   shift                   98982 non-null   object \n",
      " 10  color                   0 non-null       float64\n",
      " 11  photos                  100000 non-null  int64  \n",
      " 12  description             55810 non-null   object \n",
      " 13  price                   100000 non-null  int64  \n",
      " 14  currency                100000 non-null  object \n",
      " 15  location                100000 non-null  object \n",
      " 16  publish_date            100000 non-null  object \n",
      " 17  update_date             100000 non-null  object \n",
      " 18  dealer_name             99908 non-null   object \n",
      " 19  dealer_description      81558 non-null   object \n",
      " 20  dealer_address          99908 non-null   object \n",
      " 21  dealer_zip_code         99908 non-null   float64\n",
      " 22  dealer_city             99908 non-null   object \n",
      " 23  dealer_country_code     100000 non-null  object \n",
      " 24  dealer_is_professional  100000 non-null  bool   \n",
      " 25  dealer_website          79913 non-null   object \n",
      " 26  dealer_registered_at    99908 non-null   object \n",
      " 27  date                    100000 non-null  object \n",
      "dtypes: bool(1), float64(5), int64(3), object(19)\n",
      "memory usage: 20.7+ MB\n"
     ]
    }
   ],
   "source": [
    "df.info()"
   ]
  },
  {
   "cell_type": "markdown",
   "metadata": {},
   "source": [
    "## Selección de variables que usaremos para el estudio"
   ]
  },
  {
   "cell_type": "code",
   "execution_count": 39,
   "metadata": {},
   "outputs": [
    {
     "data": {
      "text/plain": [
       "Index(['vehicle_type', 'make', 'model', 'version', 'fuel', 'year', 'kms',\n",
       "       'power', 'doors', 'shift', 'color', 'photos', 'description', 'price',\n",
       "       'currency', 'location', 'publish_date', 'update_date', 'dealer_name',\n",
       "       'dealer_description', 'dealer_address', 'dealer_zip_code',\n",
       "       'dealer_city', 'dealer_country_code', 'dealer_is_professional',\n",
       "       'dealer_website', 'dealer_registered_at', 'date'],\n",
       "      dtype='object')"
      ]
     },
     "execution_count": 39,
     "metadata": {},
     "output_type": "execute_result"
    }
   ],
   "source": [
    "df.columns"
   ]
  },
  {
   "cell_type": "markdown",
   "metadata": {},
   "source": [
    "* Eliminaremos *vehicle_type* debido a que solo tiene el valor único car.\n",
    "* Eliminaremos *doors* debido a que tiene un 100% de valores nulos, al igual que *colors*.\n",
    "* Eliminaremos *currency* debido a que solo es el tipo de moneda.\n",
    "* *update_date* la borraremos debido a que no nos da información para el análisis.\n",
    "* Eliminaremos *dealer_name*, *dealer_description*, *dealer_city*, *dealer_zip_code*, *dealer_city*, *dealer_country_code*, *dealer_is_professional*, *dealer_website*, *dealer_registered_at*, *date* porque no nos aportan información en nuestro análisis."
   ]
  },
  {
   "cell_type": "code",
   "execution_count": 40,
   "metadata": {},
   "outputs": [],
   "source": [
    "df = df.drop(['vehicle_type','doors','color','photos', 'description','currency','update_date','dealer_name','dealer_description', 'dealer_is_professional','dealer_website','dealer_registered_at', 'date'], axis=1)"
   ]
  },
  {
   "cell_type": "markdown",
   "metadata": {},
   "source": [
    "## Valores duplicados\n"
   ]
  },
  {
   "cell_type": "code",
   "execution_count": 41,
   "metadata": {},
   "outputs": [
    {
     "data": {
      "text/plain": [
       "57295"
      ]
     },
     "execution_count": 41,
     "metadata": {},
     "output_type": "execute_result"
    }
   ],
   "source": [
    "df.duplicated().sum() #filas duplicadas"
   ]
  },
  {
   "cell_type": "code",
   "execution_count": 42,
   "metadata": {},
   "outputs": [],
   "source": [
    "df = df.drop_duplicates()"
   ]
  },
  {
   "cell_type": "markdown",
   "metadata": {},
   "source": [
    "## Valores nulos"
   ]
  },
  {
   "cell_type": "code",
   "execution_count": 43,
   "metadata": {},
   "outputs": [
    {
     "data": {
      "text/plain": [
       "make                      0\n",
       "model                     0\n",
       "version                  73\n",
       "fuel                   1280\n",
       "year                      0\n",
       "kms                     250\n",
       "power                    83\n",
       "shift                   697\n",
       "price                     0\n",
       "location                  0\n",
       "publish_date              0\n",
       "dealer_address           27\n",
       "dealer_zip_code          27\n",
       "dealer_city              27\n",
       "dealer_country_code       0\n",
       "dtype: int64"
      ]
     },
     "execution_count": 43,
     "metadata": {},
     "output_type": "execute_result"
    }
   ],
   "source": [
    "df.isnull().sum()"
   ]
  },
  {
   "cell_type": "code",
   "execution_count": 44,
   "metadata": {},
   "outputs": [
    {
     "data": {
      "text/plain": [
       "make                   0.000000\n",
       "model                  0.000000\n",
       "version                0.170940\n",
       "fuel                   2.997307\n",
       "year                   0.000000\n",
       "kms                    0.585412\n",
       "power                  0.194357\n",
       "shift                  1.632127\n",
       "price                  0.000000\n",
       "location               0.000000\n",
       "publish_date           0.000000\n",
       "dealer_address         0.063224\n",
       "dealer_zip_code        0.063224\n",
       "dealer_city            0.063224\n",
       "dealer_country_code    0.000000\n",
       "dtype: float64"
      ]
     },
     "execution_count": 44,
     "metadata": {},
     "output_type": "execute_result"
    }
   ],
   "source": [
    "((df.isnull().sum())/df.shape[0])*100"
   ]
  },
  {
   "cell_type": "markdown",
   "metadata": {},
   "source": [
    "### Valores nulos de tipo de combustible"
   ]
  },
  {
   "cell_type": "code",
   "execution_count": 45,
   "metadata": {},
   "outputs": [
    {
     "data": {
      "text/plain": [
       "make           model             \n",
       "Toyota         C-HR                  253\n",
       "               Corolla                62\n",
       "Ford           Puma                   53\n",
       "Fiat           500                    44\n",
       "Mazda          2                      39\n",
       "KIA            Ceed                   39\n",
       "Lexus          NX                     39\n",
       "Toyota         Auris                  37\n",
       "               Yaris                  36\n",
       "KIA            Sportage               35\n",
       "Hyundai        IONIQ                  29\n",
       "Renault        Arkana                 29\n",
       "Lexus          ES                     27\n",
       "SEAT           Leon                   25\n",
       "Lexus          UX                     25\n",
       "KIA            Niro                   22\n",
       "Citroen        C3                     22\n",
       "Lexus          RX                     21\n",
       "               IS                     19\n",
       "BMW            Serie 4                19\n",
       "Hyundai        Tucson                 17\n",
       "CUPRA          Leon                   17\n",
       "Lexus          RC                     16\n",
       "Fiat           Panda                  12\n",
       "Ford           Tourneo Custom         12\n",
       "Citroen        C5 X                   11\n",
       "Ford           Fiesta                 10\n",
       "               Kuga                    9\n",
       "Nissan         Qashqai                 8\n",
       "Renault        Clio                    8\n",
       "Alfa Romeo     Tonale                  8\n",
       "BMW            X7                      7\n",
       "Volkswagen     Golf                    7\n",
       "Honda          Insight                 7\n",
       "Dacia          Jogger                  6\n",
       "Mazda          3                       6\n",
       "Skoda          Octavia                 6\n",
       "KIA            XCeed                   5\n",
       "Mazda          CX-30                   5\n",
       "Mitsubishi     Outlander               5\n",
       "Abarth         500                     5\n",
       "KIA            Stonic                  5\n",
       "Audi           A3                      5\n",
       "Citroen        C4                      4\n",
       "KIA            Rio                     4\n",
       "Citroen        Berlingo                4\n",
       "Porsche        Panamera                4\n",
       "BMW            i3                      4\n",
       "Citroen        Xsara                   4\n",
       "Volvo          XC60                    3\n",
       "Opel           Corsa                   3\n",
       "BMW            Serie 3                 3\n",
       "Mitsubishi     Eclipse Cross           3\n",
       "Mercedes-Benz  Clase A                 3\n",
       "Peugeot        308                     3\n",
       "Chevrolet      Camaro                  3\n",
       "Volkswagen     Caddy                   3\n",
       "Hyundai        i20                     3\n",
       "Lexus          GS                      3\n",
       "Land Rover     Range Rover Evoque      3\n",
       "Volvo          V90                     3\n",
       "Peugeot        3008                    2\n",
       "BMW            X5 M                    2\n",
       "Mercedes-Benz  GLA                     2\n",
       "Bentley        Flying Spur             2\n",
       "BMW            Serie 5                 2\n",
       "               X5                      2\n",
       "Porsche        Cayman                  2\n",
       "Peugeot        307                     2\n",
       "Porsche        718 Boxster             2\n",
       "               911                     2\n",
       "Audi           RS6                     2\n",
       "Renault        Twizy                   2\n",
       "Saab           9-5                     2\n",
       "Skoda          Kamiq                   2\n",
       "Subaru         XV                      2\n",
       "Toyota         MR2                     2\n",
       "               Yaris Cross             2\n",
       "Abarth         695                     2\n",
       "Volkswagen     Golf Sportsvan          2\n",
       "               Multivan                2\n",
       "               Polo                    2\n",
       "               Touareg                 2\n",
       "Cadillac       CTS                     2\n",
       "Mercedes-Benz  Clase CLS               2\n",
       "Daihatsu       Terios                  2\n",
       "Ford           C-MAX                   2\n",
       "Honda          CR-Z                    2\n",
       "Jeep           Wrangler                2\n",
       "Honda          Jazz                    2\n",
       "Dacia          Duster                  2\n",
       "Citroen        C2                      2\n",
       "Hyundai        Kona                    2\n",
       "Renault        Laguna                  1\n",
       "Citroen        C3 Picasso              1\n",
       "Audi           RS4                     1\n",
       "SEAT           Ibiza                   1\n",
       "Rover          45                      1\n",
       "Ford           Focus                   1\n",
       "Renault        Twingo                  1\n",
       "Cadillac       Seville                 1\n",
       "Ford           Fusion                  1\n",
       "Subaru         Legacy                  1\n",
       "Ford           Mondeo Vignale          1\n",
       "Chevrolet      Tahoe                   1\n",
       "Porsche        Cayenne                 1\n",
       "               Boxster                 1\n",
       "Honda          CR-V                    1\n",
       "Porsche        718 Cayman              1\n",
       "Peugeot        406                     1\n",
       "Audi           RS3                     1\n",
       "Tata           Indigo                  1\n",
       "Fiat           Barchetta               1\n",
       "Suzuki         Vitara                  1\n",
       "Volvo          XC40                    1\n",
       "Corvette       Corvette                1\n",
       "DS             4                       1\n",
       "Volkswagen     Taigo                   1\n",
       "               T-Cross                 1\n",
       "DS             7 CROSSBACK             1\n",
       "Citroen        C5                      1\n",
       "Volkswagen     Golf Plus               1\n",
       "Dacia          Lodgy                   1\n",
       "Toyota         iQ                      1\n",
       "Dodge          Caliber                 1\n",
       "Abarth         Punto Evo               1\n",
       "Ferrari        LaFerrari               1\n",
       "Citroen        C4 Picasso              1\n",
       "Toyota         Camry                   1\n",
       "Audi           Q7                      1\n",
       "               Q8                      1\n",
       "Chevrolet      Kalos                   1\n",
       "Hummer         H2                      1\n",
       "Chevrolet      Aveo                    1\n",
       "Peugeot        207                     1\n",
       "BMW            Serie 7                 1\n",
       "               Serie 8                 1\n",
       "               X1                      1\n",
       "MINI           Roadster                1\n",
       "MG             ZS                      1\n",
       "Lotus          Esprit                  1\n",
       "Hyundai        Matrix                  1\n",
       "BMW            X6                      1\n",
       "               X6 M                    1\n",
       "Hyundai        i10                     1\n",
       "Infiniti       FX37                    1\n",
       "Jaguar         S-Type                  1\n",
       "Lexus          CT                      1\n",
       "Land Rover     Range Rover Sport       1\n",
       "Jaguar         XJ                      1\n",
       "Lancia         Musa                    1\n",
       "Lamborghini    Huracán                 1\n",
       "Abarth         595                     1\n",
       "Cadillac       STS                     1\n",
       "Chevrolet      Cruze                   1\n",
       "Hyundai        Getz                    1\n",
       "Mercedes-Benz  Clase E                 1\n",
       "Nissan         NV400                   1\n",
       "Peugeot        107                     1\n",
       "Opel           Tigra                   1\n",
       "Hyundai        Accent                  1\n",
       "Opel           Astra                   1\n",
       "Nissan         Townstar                1\n",
       "Hyundai        Atos                    1\n",
       "Nissan         Pixo                    1\n",
       "               Navara                  1\n",
       "BMW            Serie 6                 1\n",
       "Mercedes-Benz  Clase G                 1\n",
       "Hyundai        Coupe                   1\n",
       "Mitsubishi     3000 GT                 1\n",
       "Mercedes-Benz  Vito                    1\n",
       "               Viano                   1\n",
       "               SLK                     1\n",
       "               GLE Coupé               1\n",
       "Hyundai        Elantra                 1\n",
       "Mercedes-Benz  Classe X                1\n",
       "Citroen        Nemo                    1\n",
       "Name: count, dtype: int64"
      ]
     },
     "execution_count": 45,
     "metadata": {},
     "output_type": "execute_result"
    }
   ],
   "source": [
    "# Ajustar las opciones de visualización de pandas\n",
    "pd.set_option('display.max_rows', None)\n",
    "pd.set_option('display.max_columns', None)\n",
    "pd.set_option('display.width', None)\n",
    "pd.set_option('display.max_colwidth', None)\n",
    "\n",
    "# Mostrar el resultado completo\n",
    "df[df['fuel'].isnull()][['make','model']].value_counts()"
   ]
  },
  {
   "cell_type": "code",
   "execution_count": 46,
   "metadata": {},
   "outputs": [],
   "source": [
    "df = df.dropna(subset=['kms', 'version'])"
   ]
  },
  {
   "cell_type": "code",
   "execution_count": 47,
   "metadata": {},
   "outputs": [
    {
     "data": {
      "text/plain": [
       "make                   0.000000\n",
       "model                  0.000000\n",
       "version                0.000000\n",
       "fuel                   2.968241\n",
       "year                   0.000000\n",
       "kms                    0.000000\n",
       "power                  0.179321\n",
       "shift                  1.625690\n",
       "price                  0.000000\n",
       "location               0.000000\n",
       "publish_date           0.000000\n",
       "dealer_address         0.063706\n",
       "dealer_zip_code        0.063706\n",
       "dealer_city            0.063706\n",
       "dealer_country_code    0.000000\n",
       "dtype: float64"
      ]
     },
     "execution_count": 47,
     "metadata": {},
     "output_type": "execute_result"
    }
   ],
   "source": [
    "((df.isnull().sum())/df.shape[0])*100\n",
    "    "
   ]
  },
  {
   "cell_type": "code",
   "execution_count": 48,
   "metadata": {},
   "outputs": [
    {
     "name": "stderr",
     "output_type": "stream",
     "text": [
      "C:\\Users\\spide\\AppData\\Local\\Packages\\PythonSoftwareFoundation.Python.3.11_qbz5n2kfra8p0\\LocalCache\\local-packages\\Python311\\site-packages\\numpy\\lib\\nanfunctions.py:1215: RuntimeWarning: Mean of empty slice\n",
      "  return np.nanmean(a, axis, out=out, keepdims=keepdims)\n"
     ]
    }
   ],
   "source": [
    "# Lista de variables a rellenar\n",
    "variables = ['fuel', 'power', 'shift']\n",
    "\n",
    "# Función para calcular la moda o mediana por modelo\n",
    "def calculate_stat_by_model(df, var):\n",
    "    if var == 'power':\n",
    "        return df.groupby('model')[var].transform(lambda x: x.median() if not pd.isna(x.median()) else None)\n",
    "    else:\n",
    "        return df.groupby('model')[var].transform(lambda x: x.mode()[0] if not x.mode().empty else None)\n",
    "\n",
    "# Función para rellenar los valores nulos\n",
    "def fill_missing_values(df, var):\n",
    "    stat_by_model = calculate_stat_by_model(df, var)\n",
    "    df[var] = df[var].fillna(stat_by_model)\n",
    "    return df\n",
    "\n",
    "# Aplicar la función para cada variable\n",
    "for var in variables:\n",
    "    df = fill_missing_values(df, var)\n"
   ]
  },
  {
   "cell_type": "code",
   "execution_count": 49,
   "metadata": {},
   "outputs": [
    {
     "data": {
      "text/plain": [
       "make                    0\n",
       "model                   0\n",
       "version                 0\n",
       "fuel                    3\n",
       "year                    0\n",
       "kms                     0\n",
       "power                   1\n",
       "shift                   1\n",
       "price                   0\n",
       "location                0\n",
       "publish_date            0\n",
       "dealer_address         27\n",
       "dealer_zip_code        27\n",
       "dealer_city            27\n",
       "dealer_country_code     0\n",
       "dtype: int64"
      ]
     },
     "execution_count": 49,
     "metadata": {},
     "output_type": "execute_result"
    }
   ],
   "source": [
    "df.isnull().sum()    "
   ]
  },
  {
   "cell_type": "code",
   "execution_count": 50,
   "metadata": {},
   "outputs": [],
   "source": [
    "#Estos los arreglaremos poniendole gasolina porque lo hemos busucado en internet\n",
    "df['fuel'] = df['fuel'].fillna('Gasolina')"
   ]
  },
  {
   "cell_type": "code",
   "execution_count": 51,
   "metadata": {},
   "outputs": [
    {
     "data": {
      "text/plain": [
       "make     model  \n",
       "Citroen  ë-Jumpy    1\n",
       "Name: count, dtype: int64"
      ]
     },
     "execution_count": 51,
     "metadata": {},
     "output_type": "execute_result"
    }
   ],
   "source": [
    "df[df['power'].isnull()][['make','model']].value_counts() #Vemos los valores nulos de la variable power que nos quedan"
   ]
  },
  {
   "cell_type": "code",
   "execution_count": 52,
   "metadata": {},
   "outputs": [],
   "source": [
    "#Buscando en internet tiene 100 kW\n",
    "df['power'] = df['power'].fillna(100.0)"
   ]
  },
  {
   "cell_type": "code",
   "execution_count": 53,
   "metadata": {},
   "outputs": [
    {
     "data": {
      "text/plain": [
       "make   model   version             \n",
       "Lotus  Esprit  Coche de competición    1\n",
       "Name: count, dtype: int64"
      ]
     },
     "execution_count": 53,
     "metadata": {},
     "output_type": "execute_result"
    }
   ],
   "source": [
    "df[df['shift'].isnull()][['make','model','version']].value_counts() #Vemos los valores nulos de la variable shift que nos quedan"
   ]
  },
  {
   "cell_type": "code",
   "execution_count": 54,
   "metadata": {},
   "outputs": [],
   "source": [
    "#Buscando en internet el vehículo es manual\n",
    "df['shift']=df['shift'].fillna('manual')"
   ]
  },
  {
   "cell_type": "code",
   "execution_count": 55,
   "metadata": {},
   "outputs": [
    {
     "data": {
      "text/plain": [
       "make                    0\n",
       "model                   0\n",
       "version                 0\n",
       "fuel                    0\n",
       "year                    0\n",
       "kms                     0\n",
       "power                   0\n",
       "shift                   0\n",
       "price                   0\n",
       "location                0\n",
       "publish_date            0\n",
       "dealer_address         27\n",
       "dealer_zip_code        27\n",
       "dealer_city            27\n",
       "dealer_country_code     0\n",
       "dtype: int64"
      ]
     },
     "execution_count": 55,
     "metadata": {},
     "output_type": "execute_result"
    }
   ],
   "source": [
    "df.isnull().sum()   "
   ]
  },
  {
   "cell_type": "code",
   "execution_count": 56,
   "metadata": {},
   "outputs": [
    {
     "data": {
      "text/plain": [
       "location\n",
       "Elx/Elche                                     21\n",
       "Parque Empresarial San Fernando de Henares     5\n",
       "Collado Villalba                               1\n",
       "Name: count, dtype: int64"
      ]
     },
     "execution_count": 56,
     "metadata": {},
     "output_type": "execute_result"
    }
   ],
   "source": [
    "df[df['dealer_zip_code'].isnull()]['location'].value_counts()"
   ]
  },
  {
   "cell_type": "code",
   "execution_count": 57,
   "metadata": {},
   "outputs": [],
   "source": [
    "#Pasamos a texto el valor de dealer_zip_code por aquellos que empiezen por 0\n",
    "df['dealer_zip_code'] = df['dealer_zip_code'].astype(str)"
   ]
  },
  {
   "cell_type": "code",
   "execution_count": 58,
   "metadata": {},
   "outputs": [],
   "source": [
    "df.loc[df['location'] == 'Parque Empresarial San Fernando de Henares', 'dealer_zip_code'] = df.loc[df['location'] == 'Parque Empresarial San Fernando de Henares', 'dealer_zip_code'].fillna('28830')\n",
    "df.loc[df['location'] == 'Collado Villalba', 'dealer_zip_code'] = df.loc[df['location'] == 'Collado Villalba', 'dealer_zip_code'].fillna('28400')\n",
    "df.loc[df['location'] == 'Elx/Elche', 'dealer_zip_code'] = df.loc[df['location'] == 'Elx/Elche', 'dealer_zip_code'].fillna('03203')"
   ]
  },
  {
   "cell_type": "code",
   "execution_count": 59,
   "metadata": {},
   "outputs": [
    {
     "data": {
      "text/plain": [
       "make                    0\n",
       "model                   0\n",
       "version                 0\n",
       "fuel                    0\n",
       "year                    0\n",
       "kms                     0\n",
       "power                   0\n",
       "shift                   0\n",
       "price                   0\n",
       "location                0\n",
       "publish_date            0\n",
       "dealer_address         27\n",
       "dealer_zip_code         0\n",
       "dealer_city            27\n",
       "dealer_country_code     0\n",
       "dtype: int64"
      ]
     },
     "execution_count": 59,
     "metadata": {},
     "output_type": "execute_result"
    }
   ],
   "source": [
    "df.isnull().sum()   "
   ]
  },
  {
   "cell_type": "code",
   "execution_count": 60,
   "metadata": {},
   "outputs": [],
   "source": [
    "df = df.dropna(subset=['dealer_address'])"
   ]
  },
  {
   "cell_type": "code",
   "execution_count": 61,
   "metadata": {},
   "outputs": [
    {
     "data": {
      "text/plain": [
       "make                   0\n",
       "model                  0\n",
       "version                0\n",
       "fuel                   0\n",
       "year                   0\n",
       "kms                    0\n",
       "power                  0\n",
       "shift                  0\n",
       "price                  0\n",
       "location               0\n",
       "publish_date           0\n",
       "dealer_address         0\n",
       "dealer_zip_code        0\n",
       "dealer_city            0\n",
       "dealer_country_code    0\n",
       "dtype: int64"
      ]
     },
     "execution_count": 61,
     "metadata": {},
     "output_type": "execute_result"
    }
   ],
   "source": [
    "df.isnull().sum()"
   ]
  },
  {
   "cell_type": "code",
   "execution_count": 30,
   "metadata": {},
   "outputs": [],
   "source": [
    "#Guardar df en csv \n",
    "#df.to_csv('car_price.csv', index=False)"
   ]
  },
  {
   "cell_type": "markdown",
   "metadata": {},
   "source": [
    "## Latitud, Longitud y Provincia"
   ]
  },
  {
   "cell_type": "code",
   "execution_count": 67,
   "metadata": {},
   "outputs": [],
   "source": [
    "import pandas as pd\n",
    "from geopy.geocoders import Nominatim\n",
    "from geopy.exc import GeocoderTimedOut, GeocoderServiceError\n",
    "import time\n",
    "\n",
    "def clean_address(address):\n",
    "    \"\"\"\n",
    "    Limpia y formatea la dirección\n",
    "    \"\"\"\n",
    "    if pd.isna(address):\n",
    "        return \"\"\n",
    "    # Convertir a string si no lo es\n",
    "    address = str(address)\n",
    "    # Eliminar caracteres especiales y espacios extras\n",
    "    address = address.replace(\"NaN\", \"\").strip()\n",
    "    return address\n",
    "\n",
    "def get_coordinates(address, city, country_code):\n",
    "    \"\"\"\n",
    "    Get latitude and longitude from address using Nominatim geocoder\n",
    "    \"\"\"\n",
    "    # Limpiar los componentes de la dirección\n",
    "    address = clean_address(address)\n",
    "    city = clean_address(city)\n",
    "    country_code = clean_address(country_code)\n",
    "    \n",
    "    # Si no hay suficiente información, retornar None\n",
    "    if not (address and city and country_code):\n",
    "        print(f\"Información incompleta: {address}, {city}, {country_code}\")\n",
    "        return None, None\n",
    "    \n",
    "    # Crear la dirección completa\n",
    "    full_address = f\"{address}, {city}, {country_code}\"\n",
    "    print(f\"Buscando dirección: {full_address}\")  # Para depuración\n",
    "    \n",
    "    # Initialize the geocoder\n",
    "    geolocator = Nominatim(user_agent=\"my_vehicles_app\")\n",
    "    \n",
    "    try:\n",
    "        time.sleep(1)  # Respetar límites de la API\n",
    "        \n",
    "        # Intentar primero con la dirección completa\n",
    "        location = geolocator.geocode(full_address)\n",
    "        \n",
    "        # Si falla, intentar solo con ciudad y país\n",
    "        if not location:\n",
    "            print(\"Intentando con ciudad y país...\")\n",
    "            location = geolocator.geocode(f\"{city}, {country_code}\")\n",
    "        \n",
    "        if location:\n",
    "            print(f\"Encontrado: {location.latitude}, {location.longitude}\")\n",
    "            return location.latitude, location.longitude\n",
    "        else:\n",
    "            print(\"No se encontró la ubicación\")\n",
    "            return None, None\n",
    "            \n",
    "    except (GeocoderTimedOut, GeocoderServiceError) as e:\n",
    "        print(f\"Error de geocodificación: {str(e)}\")\n",
    "        return None, None\n",
    "\n",
    "def get_province_from_coordinates(lat, long):\n",
    "    \"\"\"\n",
    "    Obtiene la provincia utilizando las coordenadas de latitud y longitud\n",
    "    \"\"\"\n",
    "    if lat is None or long is None:\n",
    "        return 'Unknown'\n",
    "    \n",
    "    geolocator = Nominatim(user_agent=\"my_vehicles_app\")\n",
    "    try:\n",
    "        time.sleep(1)  # Respetar límites de la API\n",
    "        location = geolocator.reverse((lat, long), timeout=10).raw['address']\n",
    "        print(f\"Provincia encontrada: {location.get('state', 'Unknown')}\")  # 'state' puede variar dependiendo del país\n",
    "        return location.get('state', 'Unknown'),  # 'state' puede variar dependiendo del país\n",
    "    except (GeocoderTimedOut, GeocoderServiceError, KeyError) as e:\n",
    "        print(f\"Error al obtener la provincia: {str(e)}\")\n",
    "        return 'Unknown'\n",
    "\n",
    "def add_coordinates_and_state_to_df(df):\n",
    "    \"\"\"\n",
    "    Add latitude, longitude, and state columns to the DataFrame\n",
    "    \"\"\"\n",
    "    # Initialize new columns\n",
    "    df['lat'] = None\n",
    "    df['long'] = None\n",
    "    df['state'] = None\n",
    "    \n",
    "    # Iterate through rows\n",
    "    for idx, row in df.iterrows():\n",
    "        print(f\"\\nProcesando fila {idx + 1}/{len(df)}\")\n",
    "        \n",
    "        # Imprimir los valores para depuración\n",
    "        print(f\"Dirección: {row.get('dealer_address', 'No disponible')}\")\n",
    "        print(f\"Ciudad: {row.get('dealer_city', 'No disponible')}\")\n",
    "        print(f\"País: {row.get('dealer_country_code', 'No disponible')}\")\n",
    "        \n",
    "        # Obtener latitud y longitud\n",
    "        lat, long = get_coordinates(\n",
    "            row.get('dealer_address', ''),\n",
    "            row.get('dealer_city', ''),\n",
    "            row.get('dealer_country_code', '')\n",
    "        )\n",
    "        \n",
    "        # Obtener la provincia si se encontraron coordenadas\n",
    "        state = get_province_from_coordinates(lat, long)\n",
    "        \n",
    "        # Actualizar el DataFrame\n",
    "        df.at[idx, 'lat'] = lat\n",
    "        df.at[idx, 'long'] = long\n",
    "        df.at[idx, 'state'] = state\n",
    "    \n",
    "    return df\n"
   ]
  },
  {
   "cell_type": "code",
   "execution_count": 63,
   "metadata": {},
   "outputs": [],
   "source": [
    "df_coordenadas = df[['dealer_address', 'dealer_city', 'dealer_country_code']]"
   ]
  },
  {
   "cell_type": "code",
   "execution_count": 64,
   "metadata": {},
   "outputs": [
    {
     "name": "stdout",
     "output_type": "stream",
     "text": [
      "(21178, 3)\n",
      "(21177, 3)\n"
     ]
    },
    {
     "name": "stderr",
     "output_type": "stream",
     "text": [
      "C:\\Users\\spide\\AppData\\Local\\Packages\\PythonSoftwareFoundation.Python.3.11_qbz5n2kfra8p0\\LocalCache\\local-packages\\Python311\\site-packages\\numpy\\core\\fromnumeric.py:59: FutureWarning: 'DataFrame.swapaxes' is deprecated and will be removed in a future version. Please use 'DataFrame.transpose' instead.\n",
      "  return bound(*args, **kwds)\n"
     ]
    }
   ],
   "source": [
    "# Dividir el dataframe en 2 partes\n",
    "df2, df3 = np.array_split(df_coordenadas, 2)\n",
    "\n",
    "# Mostrar las formas de los dataframes resultantes\n",
    "print(df2.shape)\n",
    "print(df3.shape)\n"
   ]
  },
  {
   "cell_type": "code",
   "execution_count": 65,
   "metadata": {},
   "outputs": [],
   "source": [
    "df2.reset_index(drop=True, inplace=True)"
   ]
  },
  {
   "cell_type": "code",
   "execution_count": 70,
   "metadata": {},
   "outputs": [
    {
     "ename": "NameError",
     "evalue": "name 'df_jaume' is not defined",
     "output_type": "error",
     "traceback": [
      "\u001b[1;31m---------------------------------------------------------------------------\u001b[0m",
      "\u001b[1;31mNameError\u001b[0m                                 Traceback (most recent call last)",
      "Cell \u001b[1;32mIn[70], line 1\u001b[0m\n\u001b[1;32m----> 1\u001b[0m \u001b[43mdf_jaume\u001b[49m\u001b[38;5;241m.\u001b[39mhead(\u001b[38;5;241m10\u001b[39m)\n",
      "\u001b[1;31mNameError\u001b[0m: name 'df_jaume' is not defined"
     ]
    }
   ],
   "source": [
    "df_jaume.head(10)"
   ]
  }
 ],
 "metadata": {
  "kernelspec": {
   "display_name": "Python 3",
   "language": "python",
   "name": "python3"
  },
  "language_info": {
   "codemirror_mode": {
    "name": "ipython",
    "version": 3
   },
   "file_extension": ".py",
   "mimetype": "text/x-python",
   "name": "python",
   "nbconvert_exporter": "python",
   "pygments_lexer": "ipython3",
   "version": "3.11.9"
  }
 },
 "nbformat": 4,
 "nbformat_minor": 2
}
